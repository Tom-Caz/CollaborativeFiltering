{
 "cells": [
  {
   "cell_type": "markdown",
   "metadata": {
    "tags": []
   },
   "source": [
    "# Collaborative Filtering Project\n",
    "## Intro to Machine Learning\n",
    "### Thomas Cazort\n",
    "---"
   ]
  },
  {
   "cell_type": "markdown",
   "metadata": {},
   "source": [
    "## Setup:"
   ]
  },
  {
   "cell_type": "code",
   "execution_count": 363,
   "metadata": {},
   "outputs": [],
   "source": [
    "from collections import defaultdict\n",
    "from scipy.stats import pearsonr\n",
    "import numpy as np\n",
    "import math\n",
    "import statistics\n",
    "from sklearn.metrics import mean_squared_error"
   ]
  },
  {
   "cell_type": "markdown",
   "metadata": {},
   "source": [
    "Store similarities in dictionary SIM (This is like a sparse-matrix where we only store non-zero values)\n",
    "\n",
    "Store ratings in ITM:"
   ]
  },
  {
   "cell_type": "code",
   "execution_count": 364,
   "metadata": {},
   "outputs": [],
   "source": [
    "SIM = defaultdict(dict)\n",
    "ITM = defaultdict(dict)\n",
    "userMovies = defaultdict(list)"
   ]
  },
  {
   "cell_type": "markdown",
   "metadata": {},
   "source": [
    "ITM[*m*][*u*] stores rating score for movie *m* and user *u*\n",
    "\n",
    "SIM[*m1*][*m2*] stores similarity score between movie *m* and *m1*\n",
    "\n",
    "userMovies[*u*] lists all movies reviewed by user *u*\n",
    "\n"
   ]
  },
  {
   "cell_type": "code",
   "execution_count": 365,
   "metadata": {},
   "outputs": [],
   "source": [
    "ifile = open(\"netflix-small/ratings-train.txt\")\n",
    "for l in ifile:\n",
    "    parts = l.strip().split(\",\")\n",
    "    ITM[int(parts[0])][int(parts[1])] = float(parts[2])\n",
    "    userMovies[int(parts[1])] += [int(parts[0])]\n",
    "ifile.close()"
   ]
  },
  {
   "cell_type": "markdown",
   "metadata": {},
   "source": [
    "### Similarity Computation:\n",
    "\n",
    "Compute similarity between *i* and *j* and store this value in SIM[*i*][*j*]\n",
    "\n",
    "I will be using the correlation-coefficient formula described in class."
   ]
  },
  {
   "cell_type": "code",
   "execution_count": 366,
   "metadata": {},
   "outputs": [],
   "source": [
    "for i in ITM.keys():\n",
    "    for j in ITM.keys():\n",
    "        if i==j:\n",
    "            continue\n",
    "        # riBar and rjBar:\n",
    "        riBar = statistics.mean(list(ITM[i].values()))\n",
    "        rjBar = statistics.mean(list(ITM[j].values()))\n",
    "        # SUM u e U:\n",
    "        numer = denomP1 = denomP2 = 0\n",
    "        for ui in ITM[i].keys():\n",
    "            for uj in ITM[j].keys():\n",
    "                if ui != uj:\n",
    "                    continue\n",
    "                rui, ruj = ITM[i][ui], ITM[j][uj]\n",
    "                # Compute the Numerator of the Equation:\n",
    "                numer += (rui - riBar) * (ruj - rjBar)\n",
    "                # First part of Denominator:\n",
    "                denomP1 += (rui - riBar)**2\n",
    "                # Second part:\n",
    "                denomP2 += (ruj - rjBar)**2\n",
    "        # Compute simmilarity:\n",
    "        denom = math.sqrt(denomP1) * math.sqrt(denomP2)\n",
    "        \n",
    "        wij = round((numer / denom), 2) if denom != 0 else 0\n",
    "        # Add to SIM:\n",
    "        SIM[i][j] = wij\n",
    "# SIM"
   ]
  },
  {
   "cell_type": "markdown",
   "metadata": {},
   "source": [
    "## Testing:"
   ]
  },
  {
   "cell_type": "markdown",
   "metadata": {},
   "source": [
    "### K Neighbors:\n",
    "\n",
    "Find K Neighbors for movie from the weights store in SIM:"
   ]
  },
  {
   "cell_type": "code",
   "execution_count": 367,
   "metadata": {
    "tags": []
   },
   "outputs": [],
   "source": [
    "testMovies = defaultdict(dict)\n",
    "ifile = open(\"netflix-small/ratings-test.txt\")\n",
    "for l in ifile:\n",
    "    parts = l.strip().split(\",\")\n",
    "    movie = int(parts[0])\n",
    "    user = int(parts[1])\n",
    "    truerating = float(parts[2])\n",
    "    testMovies[movie].update({user: truerating})\n",
    "ifile.close()\n",
    "# testMovies"
   ]
  },
  {
   "cell_type": "markdown",
   "metadata": {},
   "source": [
    "### Prediction:\n",
    "\n",
    "Predict the rating by user using user's ratings for the K neighbors:"
   ]
  },
  {
   "cell_type": "code",
   "execution_count": 368,
   "metadata": {},
   "outputs": [],
   "source": [
    "predRatings = defaultdict(dict)\n",
    "numer = denom = 0\n",
    "\n",
    "# Movie i to be predicted\n",
    "for i in testMovies.keys():\n",
    "    \n",
    "    # User a\n",
    "    for a in testMovies[i].keys():\n",
    "        if not userMovies[a]:\n",
    "            predRatings[i].update({a: -1})\n",
    "            continue\n",
    "        KNN5 = defaultdict(list)\n",
    "        knnIter, k, = 0, 5\n",
    "        for m in sorted(SIM[i], key=SIM[i].get, reverse=True):\n",
    "            if m in userMovies[a]:\n",
    "                # print(\"m\", m)\n",
    "                KNN5[i] += [m]\n",
    "                knnIter += 1\n",
    "            else:\n",
    "                continue\n",
    "            if knnIter >= k:\n",
    "                break\n",
    "        for j in KNN5[i]:\n",
    "            raj = ITM[j][a]\n",
    "            numer += raj * SIM[i][j]\n",
    "            denom += abs(SIM[i][j])\n",
    "        pai = round((numer/denom), 2) if denom != 0 else 2.5\n",
    "        pai = 0 if pai < 0 else pai\n",
    "        pai = 5 if pai > 5 else pai\n",
    "        predRatings[i].update({a: pai})\n",
    "        numer = denom = 0"
   ]
  },
  {
   "cell_type": "markdown",
   "metadata": {},
   "source": [
    "### MSE:\n",
    "\n",
    "Compute the Mean-Squared Error between the true and predicted ratings:"
   ]
  },
  {
   "cell_type": "code",
   "execution_count": 369,
   "metadata": {},
   "outputs": [
    {
     "name": "stdout",
     "output_type": "stream",
     "text": [
      "K = 5 MSE: 1.7648415492957747\n"
     ]
    }
   ],
   "source": [
    "mse = []\n",
    "y_true, y_pred = [], []\n",
    "for i in predRatings.keys():\n",
    "    for j in predRatings[i].keys():\n",
    "        if predRatings[i][j] != -1:\n",
    "            y_true += [testMovies[i][j]]\n",
    "            y_pred += [predRatings[i][j]]\n",
    "print(\"K = 5 MSE:\", mean_squared_error(y_true, y_pred))"
   ]
  },
  {
   "cell_type": "markdown",
   "metadata": {},
   "source": [
    "### Analysis:\n",
    "\n",
    "This MSE is pretty high, but it was very low on the small example dataset. This leads me to believe that because the range of values is so low (1-5) and the true results are only ever integers, this result isn't actually that bad.\n",
    "\n",
    "This was tested with K = 5. Lets test with some more values of K."
   ]
  },
  {
   "cell_type": "markdown",
   "metadata": {},
   "source": [
    "### K = 10:"
   ]
  },
  {
   "cell_type": "code",
   "execution_count": 370,
   "metadata": {},
   "outputs": [
    {
     "name": "stdout",
     "output_type": "stream",
     "text": [
      "K = 10 MSE: 1.7447676056338028\n"
     ]
    }
   ],
   "source": [
    "predRatings = defaultdict(dict)\n",
    "numer = denom = 0\n",
    "\n",
    "# Movie i to be predicted\n",
    "for i in testMovies.keys():\n",
    "    \n",
    "    # User a\n",
    "    for a in testMovies[i].keys():\n",
    "        if not userMovies[a]:\n",
    "            predRatings[i].update({a: -1})\n",
    "            continue\n",
    "        KNN10 = defaultdict(list)\n",
    "        knnIter, k, = 0, 10\n",
    "        for m in sorted(SIM[i], key=SIM[i].get, reverse=True):\n",
    "            if m in userMovies[a]:\n",
    "                # print(\"m\", m)\n",
    "                KNN10[i] += [m]\n",
    "                knnIter += 1\n",
    "            else:\n",
    "                continue\n",
    "            if knnIter >= k:\n",
    "                break\n",
    "        for j in KNN10[i]:\n",
    "            raj = ITM[j][a]\n",
    "            numer += raj * SIM[i][j]\n",
    "            denom += abs(SIM[i][j])\n",
    "        pai = round((numer/denom), 2) if denom != 0 else 2.5\n",
    "        pai = 0 if pai < 0 else pai\n",
    "        pai = 5 if pai > 5 else pai\n",
    "        predRatings[i].update({a: pai})\n",
    "        numer = denom = 0\n",
    "        \n",
    "        \n",
    "mse = []\n",
    "y_true, y_pred = [], []\n",
    "for i in predRatings.keys():\n",
    "    for j in predRatings[i].keys():\n",
    "        if predRatings[i][j] != -1:\n",
    "            y_true += [testMovies[i][j]]\n",
    "            y_pred += [predRatings[i][j]]\n",
    "print(\"K = 10 MSE:\", mean_squared_error(y_true, y_pred))"
   ]
  },
  {
   "cell_type": "markdown",
   "metadata": {},
   "source": [
    "### K = 15:"
   ]
  },
  {
   "cell_type": "code",
   "execution_count": 371,
   "metadata": {},
   "outputs": [
    {
     "name": "stdout",
     "output_type": "stream",
     "text": [
      "K = 15 MSE: 1.7465457746478872\n"
     ]
    }
   ],
   "source": [
    "predRatings = defaultdict(dict)\n",
    "numer = denom = 0\n",
    "\n",
    "# Movie i to be predicted\n",
    "for i in testMovies.keys():\n",
    "    \n",
    "    # User a\n",
    "    for a in testMovies[i].keys():\n",
    "        if not userMovies[a]:\n",
    "            predRatings[i].update({a: -1})\n",
    "            continue\n",
    "        KNN15 = defaultdict(list)\n",
    "        knnIter, k, = 0, 15\n",
    "        for m in sorted(SIM[i], key=SIM[i].get, reverse=True):\n",
    "            if m in userMovies[a]:\n",
    "                # print(\"m\", m)\n",
    "                KNN15[i] += [m]\n",
    "                knnIter += 1\n",
    "            else:\n",
    "                continue\n",
    "            if knnIter >= k:\n",
    "                break\n",
    "        for j in KNN15[i]:\n",
    "            raj = ITM[j][a]\n",
    "            numer += raj * SIM[i][j]\n",
    "            denom += abs(SIM[i][j])\n",
    "        pai = round((numer/denom), 2) if denom != 0 else 2.5\n",
    "        pai = 0 if pai < 0 else pai\n",
    "        pai = 5 if pai > 5 else pai\n",
    "        predRatings[i].update({a: pai})\n",
    "        numer = denom = 0\n",
    "        \n",
    "        \n",
    "mse = []\n",
    "y_true, y_pred = [], []\n",
    "for i in predRatings.keys():\n",
    "    for j in predRatings[i].keys():\n",
    "        if predRatings[i][j] != -1:\n",
    "            y_true += [testMovies[i][j]]\n",
    "            y_pred += [predRatings[i][j]]\n",
    "print(\"K = 15 MSE:\", mean_squared_error(y_true, y_pred))"
   ]
  },
  {
   "cell_type": "markdown",
   "metadata": {},
   "source": [
    "### K = 25:"
   ]
  },
  {
   "cell_type": "code",
   "execution_count": 372,
   "metadata": {},
   "outputs": [
    {
     "name": "stdout",
     "output_type": "stream",
     "text": [
      "K = 25 MSE: 1.7506288732394366\n"
     ]
    }
   ],
   "source": [
    "predRatings = defaultdict(dict)\n",
    "numer = denom = 0\n",
    "\n",
    "# Movie i to be predicted\n",
    "for i in testMovies.keys():\n",
    "    \n",
    "    # User a\n",
    "    for a in testMovies[i].keys():\n",
    "        if not userMovies[a]:\n",
    "            predRatings[i].update({a: -1})\n",
    "            continue\n",
    "        KNN25 = defaultdict(list)\n",
    "        knnIter, k, = 0, 25\n",
    "        for m in sorted(SIM[i], key=SIM[i].get, reverse=True):\n",
    "            if m in userMovies[a]:\n",
    "                # print(\"m\", m)\n",
    "                KNN25[i] += [m]\n",
    "                knnIter += 1\n",
    "            else:\n",
    "                continue\n",
    "            if knnIter >= k:\n",
    "                break\n",
    "        for j in KNN25[i]:\n",
    "            raj = ITM[j][a]\n",
    "            numer += raj * SIM[i][j]\n",
    "            denom += abs(SIM[i][j])\n",
    "        pai = round((numer/denom), 2) if denom != 0 else 2.5\n",
    "        pai = 0 if pai < 0 else pai\n",
    "        pai = 5 if pai > 5 else pai\n",
    "        predRatings[i].update({a: pai})\n",
    "        numer = denom = 0\n",
    "        \n",
    "        \n",
    "mse = []\n",
    "y_true, y_pred = [], []\n",
    "for i in predRatings.keys():\n",
    "    for j in predRatings[i].keys():\n",
    "        if predRatings[i][j] != -1:\n",
    "            y_true += [testMovies[i][j]]\n",
    "            y_pred += [predRatings[i][j]]\n",
    "print(\"K = 25 MSE:\", mean_squared_error(y_true, y_pred))"
   ]
  },
  {
   "cell_type": "code",
   "execution_count": null,
   "metadata": {},
   "outputs": [],
   "source": []
  },
  {
   "cell_type": "code",
   "execution_count": null,
   "metadata": {},
   "outputs": [],
   "source": []
  },
  {
   "cell_type": "code",
   "execution_count": null,
   "metadata": {},
   "outputs": [],
   "source": []
  }
 ],
 "metadata": {
  "anaconda-cloud": {},
  "kernelspec": {
   "display_name": "Python 3 (ipykernel)",
   "language": "python",
   "name": "python3"
  },
  "language_info": {
   "codemirror_mode": {
    "name": "ipython",
    "version": 3
   },
   "file_extension": ".py",
   "mimetype": "text/x-python",
   "name": "python",
   "nbconvert_exporter": "python",
   "pygments_lexer": "ipython3",
   "version": "3.9.12"
  }
 },
 "nbformat": 4,
 "nbformat_minor": 4
}
