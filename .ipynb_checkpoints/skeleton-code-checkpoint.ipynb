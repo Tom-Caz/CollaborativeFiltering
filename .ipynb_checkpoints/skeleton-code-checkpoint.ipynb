{
 "cells": [
  {
   "cell_type": "markdown",
   "metadata": {
    "tags": []
   },
   "source": [
    "# Collaborative Filtering Project\n",
    "## Intro to Machine Learning\n",
    "### Thomas Cazort\n",
    "---"
   ]
  },
  {
   "cell_type": "markdown",
   "metadata": {},
   "source": [
    "## Setup:"
   ]
  },
  {
   "cell_type": "code",
   "execution_count": 58,
   "metadata": {},
   "outputs": [],
   "source": [
    "from collections import defaultdict\n",
    "from scipy.stats import pearsonr\n",
    "import numpy as np\n",
    "import math\n",
    "import statistics"
   ]
  },
  {
   "cell_type": "markdown",
   "metadata": {},
   "source": [
    "Store similarities in dictionary SIM (This is like a sparse-matrix where we only store non-zero values)\n",
    "\n",
    "Store ratings in ITM:"
   ]
  },
  {
   "cell_type": "code",
   "execution_count": 59,
   "metadata": {},
   "outputs": [],
   "source": [
    "SIM = defaultdict(dict)\n",
    "ITM = defaultdict(dict)"
   ]
  },
  {
   "cell_type": "markdown",
   "metadata": {},
   "source": [
    "ITM[*m*][*u*] stores rating score for movie *m* and user *u*\n",
    "\n",
    "SIM[*m1*][*m2*] stores similarity score between movie *m* and *m1*"
   ]
  },
  {
   "cell_type": "code",
   "execution_count": 60,
   "metadata": {},
   "outputs": [],
   "source": [
    "ifile = open(\"netflix-small/ratings-train.txt\")\n",
    "for l in ifile:\n",
    "    parts = l.strip().split(\",\")\n",
    "    ITM[int(parts[0])][int(parts[1])] = float(parts[2])\n",
    "ifile.close()"
   ]
  },
  {
   "cell_type": "markdown",
   "metadata": {},
   "source": [
    "### Similarity Computation:\n",
    "\n",
    "Compute similarity between *i* and *j* and store this value in SIM[*i*][*j*]\n",
    "\n",
    "I will be using the correlation-coefficient formula described in class."
   ]
  },
  {
   "cell_type": "code",
   "execution_count": 71,
   "metadata": {},
   "outputs": [],
   "source": [
    "for i in ITM.keys():\n",
    "    for j in ITM.keys():\n",
    "        if i==j:\n",
    "            continue\n",
    "        # riBar and rjBar:\n",
    "        riBar = statistics.mean(list(ITM[i].values()))\n",
    "        rjBar = statistics.mean(list(ITM[j].values()))\n",
    "        # SUM u e U:\n",
    "        numer = denomP1 = denomP2 = 0\n",
    "        for ui in ITM[i].keys():\n",
    "            for uj in ITM[j].keys():\n",
    "                if ui != uj:\n",
    "                    continue\n",
    "                rui, ruj = ITM[i][ui], ITM[j][uj]\n",
    "                # Compute the Numerator of the Equation:\n",
    "                numer += (rui - riBar) * (ruj - rjBar)\n",
    "                # First part of Denominator:\n",
    "                denomP1 += (rui - riBar)**2\n",
    "                # Second part:\n",
    "                denomP2 += (ruj - rjBar)**2\n",
    "        # Compute simmilarity:\n",
    "        denom = math.sqrt(denomP1) * math.sqrt(denomP2)\n",
    "        \n",
    "        wij = round((numer / denom), 4) if denom != 0 else 0\n",
    "        # Add to SIM:\n",
    "        SIM[i][j] = wij"
   ]
  },
  {
   "cell_type": "markdown",
   "metadata": {},
   "source": [
    "## Testing:"
   ]
  },
  {
   "cell_type": "markdown",
   "metadata": {},
   "source": [
    "### K Neighbors:\n",
    "\n",
    "Find K Neighbors for movie from the weights store in SIM:"
   ]
  },
  {
   "cell_type": "code",
   "execution_count": 92,
   "metadata": {
    "tags": []
   },
   "outputs": [],
   "source": [
    "KNN5 = {}\n",
    "testMovies = defaultdict(dict)\n",
    "ifile = open(\"netflix-small/ratings-test.txt\")\n",
    "for l in ifile:\n",
    "    parts = l.strip().split(\",\")\n",
    "    movie = int(parts[0])\n",
    "    user = int(parts[1])\n",
    "    truerating = float(parts[2])\n",
    "    testMovies[movie].update({user: truerating})\n",
    "    KNN5[movie] = sorted(SIM[movie], key=SIM[movie].get, reverse=True)[:5]\n",
    "ifile.close()"
   ]
  },
  {
   "cell_type": "markdown",
   "metadata": {},
   "source": [
    "### Prediction:\n",
    "\n",
    "Predict the rating by user using user's ratings for the K neighbors:"
   ]
  },
  {
   "cell_type": "code",
   "execution_count": 88,
   "metadata": {},
   "outputs": [
    {
     "name": "stdout",
     "output_type": "stream",
     "text": [
      "9\n",
      "7\n",
      "31\n",
      "29\n",
      "10\n",
      "9\n"
     ]
    },
    {
     "ename": "KeyError",
     "evalue": "395",
     "output_type": "error",
     "traceback": [
      "\u001b[0;31m---------------------------------------------------------------------------\u001b[0m",
      "\u001b[0;31mKeyError\u001b[0m                                  Traceback (most recent call last)",
      "Input \u001b[0;32mIn [88]\u001b[0m, in \u001b[0;36m<cell line: 3>\u001b[0;34m()\u001b[0m\n\u001b[1;32m      5\u001b[0m \u001b[38;5;28;01mfor\u001b[39;00m j \u001b[38;5;129;01min\u001b[39;00m KNN5[i]:\n\u001b[1;32m      6\u001b[0m     \u001b[38;5;28mprint\u001b[39m(j)\n\u001b[0;32m----> 7\u001b[0m     raj \u001b[38;5;241m=\u001b[39m \u001b[43mITM\u001b[49m\u001b[43m[\u001b[49m\u001b[43mj\u001b[49m\u001b[43m]\u001b[49m\u001b[43m[\u001b[49m\u001b[43ma\u001b[49m\u001b[43m]\u001b[49m\n\u001b[1;32m      8\u001b[0m     numer \u001b[38;5;241m+\u001b[39m\u001b[38;5;241m=\u001b[39m raj \u001b[38;5;241m+\u001b[39m SIM[i][j]\n\u001b[1;32m      9\u001b[0m     denom \u001b[38;5;241m+\u001b[39m\u001b[38;5;241m=\u001b[39m \u001b[38;5;28mabs\u001b[39m(SIM[i][j])\n",
      "\u001b[0;31mKeyError\u001b[0m: 395"
     ]
    }
   ],
   "source": [
    "predRatings = defaultdict(dict)\n",
    "numer = denom = 0\n",
    "for i in KNN5.keys():\n",
    "    for a in testMovies[i].keys():\n",
    "        for j in KNN5[i]:\n",
    "            print(j)\n",
    "            raj = ITM[j][a]\n",
    "            numer += raj + SIM[i][j]\n",
    "            denom += abs(SIM[i][j])\n",
    "        pai = round((numer/denom), 4) if denom != 0 else 0\n",
    "        predRatings[i].update({a: pai})\n",
    "predRatings    "
   ]
  },
  {
   "cell_type": "markdown",
   "metadata": {},
   "source": [
    "### MSE:\n",
    "\n",
    "Compute the Mean-Squared Error between the true and predicted ratings:"
   ]
  },
  {
   "cell_type": "code",
   "execution_count": 90,
   "metadata": {},
   "outputs": [
    {
     "data": {
      "text/plain": [
       "{1511: 2.0,\n",
       " 2146: 3.0,\n",
       " 1235: 3.0,\n",
       " 2160: 1.0,\n",
       " 10: 1.0,\n",
       " 982: 2.0,\n",
       " 570: 4.0,\n",
       " 2043: 1.0,\n",
       " 176: 2.0,\n",
       " 2569: 1.0,\n",
       " 1139: 2.0,\n",
       " 1819: 2.0,\n",
       " 851: 3.0,\n",
       " 2486: 1.0,\n",
       " 1466: 1.0,\n",
       " 1473: 1.0,\n",
       " 2530: 2.0,\n",
       " 1091: 1.0,\n",
       " 1084: 1.0,\n",
       " 1400: 2.0,\n",
       " 1631: 2.0,\n",
       " 2536: 1.0,\n",
       " 2351: 1.0,\n",
       " 1981: 1.0,\n",
       " 615: 2.0,\n",
       " 1888: 2.0,\n",
       " 2223: 1.0,\n",
       " 1547: 3.0,\n",
       " 630: 2.0,\n",
       " 1592: 2.0,\n",
       " 345: 2.0,\n",
       " 1198: 2.0,\n",
       " 584: 1.0,\n",
       " 1263: 1.0,\n",
       " 989: 2.0,\n",
       " 2031: 1.0,\n",
       " 328: 2.0,\n",
       " 762: 2.0,\n",
       " 956: 2.0,\n",
       " 1907: 1.0,\n",
       " 1123: 2.0,\n",
       " 2495: 3.0,\n",
       " 2353: 1.0,\n",
       " 1758: 5.0,\n",
       " 1377: 4.0,\n",
       " 1386: 1.0,\n",
       " 150: 3.0,\n",
       " 1252: 2.0,\n",
       " 2457: 1.0,\n",
       " 252: 1.0,\n",
       " 640: 1.0,\n",
       " 674: 1.0,\n",
       " 1893: 1.0,\n",
       " 2564: 1.0,\n",
       " 1603: 1.0,\n",
       " 1710: 1.0,\n",
       " 743: 2.0,\n",
       " 1488: 1.0,\n",
       " 123: 3.0,\n",
       " 2507: 3.0,\n",
       " 2492: 2.0,\n",
       " 2082: 1.0,\n",
       " 2035: 1.0,\n",
       " 1191: 2.0,\n",
       " 1141: 2.0,\n",
       " 1082: 2.0,\n",
       " 2: 2.0,\n",
       " 837: 1.0,\n",
       " 2505: 2.0,\n",
       " 1340: 1.0}"
      ]
     },
     "execution_count": 90,
     "metadata": {},
     "output_type": "execute_result"
    }
   ],
   "source": [
    "ITM[9]"
   ]
  },
  {
   "cell_type": "code",
   "execution_count": null,
   "metadata": {},
   "outputs": [],
   "source": []
  }
 ],
 "metadata": {
  "anaconda-cloud": {},
  "kernelspec": {
   "display_name": "Python 3 (ipykernel)",
   "language": "python",
   "name": "python3"
  },
  "language_info": {
   "codemirror_mode": {
    "name": "ipython",
    "version": 3
   },
   "file_extension": ".py",
   "mimetype": "text/x-python",
   "name": "python",
   "nbconvert_exporter": "python",
   "pygments_lexer": "ipython3",
   "version": "3.9.12"
  }
 },
 "nbformat": 4,
 "nbformat_minor": 4
}
