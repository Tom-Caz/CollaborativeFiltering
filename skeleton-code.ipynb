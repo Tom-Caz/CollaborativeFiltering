{
 "cells": [
  {
   "cell_type": "markdown",
   "metadata": {
    "tags": []
   },
   "source": [
    "# Collaborative Filtering Project\n",
    "## Intro to Machine Learning\n",
    "### Thomas Cazort\n",
    "---"
   ]
  },
  {
   "cell_type": "markdown",
   "metadata": {},
   "source": [
    "## Setup:"
   ]
  },
  {
   "cell_type": "code",
   "execution_count": 157,
   "metadata": {},
   "outputs": [],
   "source": [
    "from collections import defaultdict\n",
    "from scipy.stats import pearsonr\n",
    "import numpy as np\n",
    "import math\n",
    "import statistics\n",
    "from sklearn.metrics import mean_squared_error"
   ]
  },
  {
   "cell_type": "markdown",
   "metadata": {},
   "source": [
    "Store similarities in dictionary SIM (This is like a sparse-matrix where we only store non-zero values)\n",
    "\n",
    "Store ratings in ITM:"
   ]
  },
  {
   "cell_type": "code",
   "execution_count": 145,
   "metadata": {},
   "outputs": [],
   "source": [
    "SIM = defaultdict(dict)\n",
    "ITM = defaultdict(dict)"
   ]
  },
  {
   "cell_type": "markdown",
   "metadata": {},
   "source": [
    "ITM[*m*][*u*] stores rating score for movie *m* and user *u*\n",
    "\n",
    "SIM[*m1*][*m2*] stores similarity score between movie *m* and *m1*"
   ]
  },
  {
   "cell_type": "code",
   "execution_count": 146,
   "metadata": {},
   "outputs": [],
   "source": [
    "ifile = open(\"netflix-small/ratings-train.txt\")\n",
    "for l in ifile:\n",
    "    parts = l.strip().split(\",\")\n",
    "    ITM[int(parts[0])][int(parts[1])] = float(parts[2])\n",
    "ifile.close()"
   ]
  },
  {
   "cell_type": "markdown",
   "metadata": {},
   "source": [
    "### Similarity Computation:\n",
    "\n",
    "Compute similarity between *i* and *j* and store this value in SIM[*i*][*j*]\n",
    "\n",
    "I will be using the correlation-coefficient formula described in class."
   ]
  },
  {
   "cell_type": "code",
   "execution_count": 147,
   "metadata": {},
   "outputs": [],
   "source": [
    "for i in ITM.keys():\n",
    "    for j in ITM.keys():\n",
    "        if i==j:\n",
    "            continue\n",
    "        # riBar and rjBar:\n",
    "        riBar = statistics.mean(list(ITM[i].values()))\n",
    "        rjBar = statistics.mean(list(ITM[j].values()))\n",
    "        # SUM u e U:\n",
    "        numer = denomP1 = denomP2 = 0\n",
    "        for ui in ITM[i].keys():\n",
    "            for uj in ITM[j].keys():\n",
    "                if ui != uj:\n",
    "                    continue\n",
    "                rui, ruj = ITM[i][ui], ITM[j][uj]\n",
    "                # Compute the Numerator of the Equation:\n",
    "                numer += (rui - riBar) * (ruj - rjBar)\n",
    "                # First part of Denominator:\n",
    "                denomP1 += (rui - riBar)**2\n",
    "                # Second part:\n",
    "                denomP2 += (ruj - rjBar)**2\n",
    "        # Compute simmilarity:\n",
    "        denom = math.sqrt(denomP1) * math.sqrt(denomP2)\n",
    "        \n",
    "        wij = round((numer / denom), 4) if denom != 0 else 0\n",
    "        # Add to SIM:\n",
    "        SIM[i][j] = wij"
   ]
  },
  {
   "cell_type": "markdown",
   "metadata": {},
   "source": [
    "## Testing:"
   ]
  },
  {
   "cell_type": "markdown",
   "metadata": {},
   "source": [
    "### K Neighbors:\n",
    "\n",
    "Find K Neighbors for movie from the weights store in SIM:"
   ]
  },
  {
   "cell_type": "code",
   "execution_count": 155,
   "metadata": {
    "tags": []
   },
   "outputs": [],
   "source": [
    "KNN5 = {}\n",
    "testMovies = defaultdict(dict)\n",
    "ifile = open(\"netflix-small/ratings-test.txt\")\n",
    "for l in ifile:\n",
    "    parts = l.strip().split(\",\")\n",
    "    movie = int(parts[0])\n",
    "    user = int(parts[1])\n",
    "    truerating = float(parts[2])\n",
    "    testMovies[movie].update({user: truerating})\n",
    "    KNN5[movie] = sorted(SIM[movie], key=SIM[movie].get, reverse=True)[:5]\n",
    "ifile.close()\n"
   ]
  },
  {
   "cell_type": "markdown",
   "metadata": {},
   "source": [
    "### Prediction:\n",
    "\n",
    "Predict the rating by user using user's ratings for the K neighbors:"
   ]
  },
  {
   "cell_type": "code",
   "execution_count": 171,
   "metadata": {},
   "outputs": [],
   "source": [
    "predRatings = defaultdict(dict)\n",
    "numer = denom = 0\n",
    "for i in testMovies.keys():\n",
    "    for a in testMovies[i].keys():\n",
    "        for j in KNN5[i]:\n",
    "            if a not in ITM[j]:\n",
    "                continue\n",
    "            raj = ITM[j][a]\n",
    "            numer += raj + SIM[i][j]\n",
    "            denom += abs(SIM[i][j])\n",
    "        pai = round((numer/denom), 4) if denom != 0 else 0\n",
    "        predRatings[i].update({a: pai})\n",
    "# predRatings\n",
    "# testMovies"
   ]
  },
  {
   "cell_type": "markdown",
   "metadata": {},
   "source": [
    "### MSE:\n",
    "\n",
    "Compute the Mean-Squared Error between the true and predicted ratings:"
   ]
  },
  {
   "cell_type": "code",
   "execution_count": 173,
   "metadata": {},
   "outputs": [
    {
     "data": {
      "text/plain": [
       "2.384974692636075"
      ]
     },
     "execution_count": 173,
     "metadata": {},
     "output_type": "execute_result"
    }
   ],
   "source": [
    "mse = []\n",
    "for i in predRatings.keys():\n",
    "    y_true, y_pred = list(testMovies[i].values()), list(predRatings[i].values())\n",
    "    mse += [mean_squared_error(y_true, y_pred)]\n",
    "sum(mse) / len(mse)"
   ]
  },
  {
   "cell_type": "code",
   "execution_count": 174,
   "metadata": {},
   "outputs": [
    {
     "data": {
      "text/plain": [
       "2.7330447871764125"
      ]
     },
     "execution_count": 174,
     "metadata": {},
     "output_type": "execute_result"
    }
   ],
   "source": [
    "KNN10 = {}\n",
    "testMovies = defaultdict(dict)\n",
    "ifile = open(\"netflix-small/ratings-test.txt\")\n",
    "for l in ifile:\n",
    "    parts = l.strip().split(\",\")\n",
    "    movie = int(parts[0])\n",
    "    user = int(parts[1])\n",
    "    truerating = float(parts[2])\n",
    "    testMovies[movie].update({user: truerating})\n",
    "    KNN10[movie] = sorted(SIM[movie], key=SIM[movie].get, reverse=True)[:10]\n",
    "ifile.close()\n",
    "\n",
    "predRatings = defaultdict(dict)\n",
    "numer = denom = 0\n",
    "for i in testMovies.keys():\n",
    "    for a in testMovies[i].keys():\n",
    "        for j in KNN10[i]:\n",
    "            if a not in ITM[j]:\n",
    "                continue\n",
    "            raj = ITM[j][a]\n",
    "            numer += raj + SIM[i][j]\n",
    "            denom += abs(SIM[i][j])\n",
    "        pai = round((numer/denom), 4) if denom != 0 else 0\n",
    "        predRatings[i].update({a: pai})\n",
    "        \n",
    "mse = []\n",
    "for i in predRatings.keys():\n",
    "    y_true, y_pred = list(testMovies[i].values()), list(predRatings[i].values())\n",
    "    mse += [mean_squared_error(y_true, y_pred)]\n",
    "sum(mse) / len(mse)"
   ]
  },
  {
   "cell_type": "code",
   "execution_count": null,
   "metadata": {},
   "outputs": [],
   "source": [
    "KNN15 = {}\n",
    "testMovies = defaultdict(dict)\n",
    "ifile = open(\"netflix-small/ratings-test.txt\")\n",
    "for l in ifile:\n",
    "    parts = l.strip().split(\",\")\n",
    "    movie = int(parts[0])\n",
    "    user = int(parts[1])\n",
    "    truerating = float(parts[2])\n",
    "    testMovies[movie].update({user: truerating})\n",
    "    KNN15[movie] = sorted(SIM[movie], key=SIM[movie].get, reverse=True)[:10]\n",
    "ifile.close()\n",
    "\n",
    "predRatings = defaultdict(dict)\n",
    "numer = denom = 0\n",
    "for i in testMovies.keys():\n",
    "    for a in testMovies[i].keys():\n",
    "        for j in KNN10[i]:\n",
    "            if a not in ITM[j]:\n",
    "                continue\n",
    "            raj = ITM[j][a]\n",
    "            numer += raj + SIM[i][j]\n",
    "            denom += abs(SIM[i][j])\n",
    "        pai = round((numer/denom), 4) if denom != 0 else 0\n",
    "        predRatings[i].update({a: pai})\n",
    "        \n",
    "mse = []\n",
    "for i in predRatings.keys():\n",
    "    y_true, y_pred = list(testMovies[i].values()), list(predRatings[i].values())\n",
    "    mse += [mean_squared_error(y_true, y_pred)]\n",
    "sum(mse) / len(mse)"
   ]
  }
 ],
 "metadata": {
  "anaconda-cloud": {},
  "kernelspec": {
   "display_name": "Python 3 (ipykernel)",
   "language": "python",
   "name": "python3"
  },
  "language_info": {
   "codemirror_mode": {
    "name": "ipython",
    "version": 3
   },
   "file_extension": ".py",
   "mimetype": "text/x-python",
   "name": "python",
   "nbconvert_exporter": "python",
   "pygments_lexer": "ipython3",
   "version": "3.9.12"
  }
 },
 "nbformat": 4,
 "nbformat_minor": 4
}
