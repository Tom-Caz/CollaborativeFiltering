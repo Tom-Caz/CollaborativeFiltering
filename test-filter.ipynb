{
 "cells": [
  {
   "cell_type": "markdown",
   "metadata": {
    "tags": []
   },
   "source": [
    "# Collaborative Filtering Project\n",
    "## Intro to Machine Learning\n",
    "### Thomas Cazort\n",
    "---"
   ]
  },
  {
   "cell_type": "markdown",
   "metadata": {},
   "source": [
    "## Setup:"
   ]
  },
  {
   "cell_type": "code",
   "execution_count": 190,
   "metadata": {},
   "outputs": [],
   "source": [
    "from collections import defaultdict\n",
    "from scipy.stats import pearsonr\n",
    "import numpy as np\n",
    "import math\n",
    "import statistics\n",
    "from sklearn.metrics import mean_squared_error"
   ]
  },
  {
   "cell_type": "markdown",
   "metadata": {},
   "source": [
    "Store similarities in dictionary SIM (This is like a sparse-matrix where we only store non-zero values)\n",
    "\n",
    "Store ratings in ITM:"
   ]
  },
  {
   "cell_type": "code",
   "execution_count": 191,
   "metadata": {},
   "outputs": [],
   "source": [
    "SIM = defaultdict(dict)\n",
    "ITM = defaultdict(dict)\n",
    "userMovies = defaultdict(list)"
   ]
  },
  {
   "cell_type": "markdown",
   "metadata": {},
   "source": [
    "ITM[*m*][*u*] stores rating score for movie *m* and user *u*\n",
    "\n",
    "SIM[*m1*][*m2*] stores similarity score between movie *m* and *m1*\n",
    "\n",
    "userMovies[*u*] lists all movies reviewed by user *u*\n",
    "\n"
   ]
  },
  {
   "cell_type": "code",
   "execution_count": 192,
   "metadata": {},
   "outputs": [],
   "source": [
    "ifile = open(\"exampledataset/data.txt\")\n",
    "for l in ifile:\n",
    "    parts = l.strip().split(\",\")\n",
    "    ITM[int(parts[0])][int(parts[1])] = float(parts[2])\n",
    "    userMovies[int(parts[1])] += [int(parts[0])]\n",
    "ifile.close()"
   ]
  },
  {
   "cell_type": "markdown",
   "metadata": {},
   "source": [
    "### Similarity Computation:\n",
    "\n",
    "Compute similarity between *i* and *j* and store this value in SIM[*i*][*j*]\n",
    "\n",
    "I will be using the correlation-coefficient formula described in class."
   ]
  },
  {
   "cell_type": "code",
   "execution_count": 193,
   "metadata": {},
   "outputs": [],
   "source": [
    "for i in ITM.keys():\n",
    "    for j in ITM.keys():\n",
    "        if i==j:\n",
    "            continue\n",
    "        # riBar and rjBar:\n",
    "        riBar = statistics.mean(list(ITM[i].values()))\n",
    "        rjBar = statistics.mean(list(ITM[j].values()))\n",
    "        # SUM u e U:\n",
    "        numer = denomP1 = denomP2 = 0\n",
    "        for ui in ITM[i].keys():\n",
    "            for uj in ITM[j].keys():\n",
    "                if ui != uj:\n",
    "                    continue\n",
    "                rui, ruj = ITM[i][ui], ITM[j][uj]\n",
    "                # Compute the Numerator of the Equation:\n",
    "                numer += (rui - riBar) * (ruj - rjBar)\n",
    "                # First part of Denominator:\n",
    "                denomP1 += (rui - riBar)**2\n",
    "                # Second part:\n",
    "                denomP2 += (ruj - rjBar)**2\n",
    "        # Compute simmilarity:\n",
    "        denom = math.sqrt(denomP1) * math.sqrt(denomP2)\n",
    "        \n",
    "        wij = round((numer / denom), 2) if denom != 0 else 0\n",
    "        # Add to SIM:\n",
    "        SIM[i][j] = wij\n",
    "# SIM"
   ]
  },
  {
   "cell_type": "markdown",
   "metadata": {},
   "source": [
    "## Testing:"
   ]
  },
  {
   "cell_type": "markdown",
   "metadata": {},
   "source": [
    "### K Neighbors:\n",
    "\n",
    "Find K Neighbors for movie from the weights store in SIM:"
   ]
  },
  {
   "cell_type": "code",
   "execution_count": 194,
   "metadata": {
    "tags": []
   },
   "outputs": [],
   "source": [
    "testMovies = defaultdict(dict)\n",
    "ifile = open(\"exampledataset/predictions.txt\")\n",
    "for l in ifile:\n",
    "    parts = l.strip().split(\",\")\n",
    "    movie = int(parts[0])\n",
    "    user = int(parts[1])\n",
    "    truerating = float(parts[2])\n",
    "    testMovies[movie].update({user: truerating})\n",
    "    # print(sorted(SIM[movie], key=SIM[movie].get, reverse=True))\n",
    "    # KNN5[movie] = sorted(SIM[movie], key=SIM[movie].get, reverse=True)[:5]\n",
    "ifile.close()\n",
    "# testMovies"
   ]
  },
  {
   "cell_type": "markdown",
   "metadata": {},
   "source": [
    "### Prediction:\n",
    "\n",
    "Predict the rating by user using user's ratings for the K neighbors:"
   ]
  },
  {
   "cell_type": "code",
   "execution_count": 197,
   "metadata": {},
   "outputs": [
    {
     "data": {
      "text/plain": [
       "defaultdict(dict,\n",
       "            {1: {2: 0.64, 4: 0, 5: 0, 7: 0, 8: 0, 10: 0.04, 12: 0},\n",
       "             2: {1: 0, 2: 0, 5: 1.3, 6: 0, 8: 1.79, 9: 0},\n",
       "             3: {3: 0, 6: 1.73, 8: 0, 12: 0},\n",
       "             4: {1: 0, 4: 2.02, 6: 0, 7: 0.56, 9: 0, 10: 0, 12: 3.98},\n",
       "             5: {1: 0, 2: 0, 7: 0.34, 8: 1.78, 9: 0, 10: 0},\n",
       "             6: {2: 1.95, 4: 0, 6: 2.11, 7: 0.01, 9: 4.51, 10: 0.86, 12: 0}})"
      ]
     },
     "execution_count": 197,
     "metadata": {},
     "output_type": "execute_result"
    }
   ],
   "source": [
    "predRatings = defaultdict(dict)\n",
    "numer = denom = 0\n",
    "\n",
    "# Movie i to be predicted\n",
    "for i in testMovies.keys():\n",
    "    # print(\"Test movie\", i, testMovies[i].keys())\n",
    "    # print(\"SIM:\", SIM[i])\n",
    "    # print(\"Sorted SIM:\", sorted(SIM[i], key=SIM[i].get, reverse=True))\n",
    "    \n",
    "    # User a\n",
    "    for a in testMovies[i].keys():\n",
    "        # print(\"User a:\", a)\n",
    "        # print(\"UserMovies:\", userMovies[a])\n",
    "        KNN5 = defaultdict(list)\n",
    "        knnIter, k, = 0, 30\n",
    "        for m in sorted(SIM[i], key=SIM[i].get, reverse=True):\n",
    "            if m in userMovies[a]:\n",
    "                # print(\"m\", m)\n",
    "                KNN5[i] += [m]\n",
    "                knnIter += 1\n",
    "            else:\n",
    "                continue\n",
    "            if knnIter >= k:\n",
    "                break\n",
    "        # print(\"KNN:\", KNN5[i])\n",
    "        for j in KNN5[i]:\n",
    "            raj = ITM[j][a]\n",
    "            numer += raj * SIM[i][j]\n",
    "            denom += abs(SIM[i][j])\n",
    "        pai = round((numer/denom), 2) if denom != 0 else 0\n",
    "        pai = 0 if pai < 0 else pai\n",
    "        pai = 5 if pai > 5 else pai\n",
    "        predRatings[i].update({a: pai})\n",
    "        numer = denom = 0\n",
    "# testMovies\n",
    "predRatings"
   ]
  },
  {
   "cell_type": "markdown",
   "metadata": {},
   "source": [
    "### MSE:\n",
    "\n",
    "Compute the Mean-Squared Error between the true and predicted ratings:"
   ]
  },
  {
   "cell_type": "code",
   "execution_count": 198,
   "metadata": {},
   "outputs": [
    {
     "data": {
      "text/plain": [
       "0.0"
      ]
     },
     "execution_count": 198,
     "metadata": {},
     "output_type": "execute_result"
    }
   ],
   "source": [
    "mse = []\n",
    "for i in predRatings.keys():\n",
    "    y_true, y_pred = list(testMovies[i].values()), list(predRatings[i].values())\n",
    "    mse += [mean_squared_error(y_true, y_pred)]\n",
    "sum(mse) / len(mse)"
   ]
  },
  {
   "cell_type": "code",
   "execution_count": null,
   "metadata": {},
   "outputs": [],
   "source": []
  },
  {
   "cell_type": "code",
   "execution_count": null,
   "metadata": {},
   "outputs": [],
   "source": []
  }
 ],
 "metadata": {
  "anaconda-cloud": {},
  "kernelspec": {
   "display_name": "Python 3 (ipykernel)",
   "language": "python",
   "name": "python3"
  },
  "language_info": {
   "codemirror_mode": {
    "name": "ipython",
    "version": 3
   },
   "file_extension": ".py",
   "mimetype": "text/x-python",
   "name": "python",
   "nbconvert_exporter": "python",
   "pygments_lexer": "ipython3",
   "version": "3.9.12"
  }
 },
 "nbformat": 4,
 "nbformat_minor": 4
}
