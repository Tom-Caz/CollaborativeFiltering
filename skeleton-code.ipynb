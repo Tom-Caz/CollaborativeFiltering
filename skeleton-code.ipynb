{
 "cells": [
  {
   "cell_type": "code",
   "execution_count": 5,
   "metadata": {
    "tags": []
   },
   "outputs": [],
   "source": [
    "from collections import defaultdict\n",
    "from scipy.stats import pearsonr\n",
    "import numpy as np\n",
    "import math\n",
    "\n",
    "#STORE SIMILARITIES IN A DICTIONARY SIM (THIS IS LIKE A SPARSE-MATRIX WHERE WE ONLY STORE NON-ZERO VALUES)\n",
    "SIM = defaultdict(dict)\n",
    "#STORE RATINGS in ITM\n",
    "ITM = defaultdict(dict)\n",
    "\n",
    "#ITM[m][u] stores rating score for movie m and user u\n",
    "#SIM[m1][m2] stores similarity score between movie m and m1\n",
    "\n",
    "ifile = open(\"netflix-small/ratings-train.txt\")\n",
    "for l in ifile:\n",
    "    parts = l.strip().split(\",\")\n",
    "    ITM[int(parts[0])][int(parts[1])] = float(parts[2])\n",
    "ifile.close()\n",
    "\n",
    "for m in ITM.keys():\n",
    "    for m1 in ITM.keys():\n",
    "        if m==m1:\n",
    "            continue\n",
    "        #COMPUTE SIMILARITY BETWEEN m and m1 and store this value in SIM[m][m1]\n",
    "\n",
    "ifile = open(\"netflix-small/ratings-test.txt\")\n",
    "for l in ifile:\n",
    "    parts = l.strip().split(\",\")\n",
    "    movie = parts[0]\n",
    "    user = parts[1]\n",
    "    truerating = float(parts[2])\n",
    "    #FIND K NEIGHBORS for movie from the weights stored in SIM\n",
    "    #PREDICT the rating by user using the user's ratings for the K neighbors\n",
    "#Compute the Mean-Squared Error between the true and predicted ratings\n",
    "ifile.close()"
   ]
  },
  {
   "cell_type": "code",
   "execution_count": null,
   "metadata": {},
   "outputs": [],
   "source": []
  },
  {
   "cell_type": "code",
   "execution_count": null,
   "metadata": {},
   "outputs": [],
   "source": []
  }
 ],
 "metadata": {
  "anaconda-cloud": {},
  "kernelspec": {
   "display_name": "Python 3 (ipykernel)",
   "language": "python",
   "name": "python3"
  },
  "language_info": {
   "codemirror_mode": {
    "name": "ipython",
    "version": 3
   },
   "file_extension": ".py",
   "mimetype": "text/x-python",
   "name": "python",
   "nbconvert_exporter": "python",
   "pygments_lexer": "ipython3",
   "version": "3.9.12"
  }
 },
 "nbformat": 4,
 "nbformat_minor": 4
}
