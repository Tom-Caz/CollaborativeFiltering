{
 "cells": [
  {
   "cell_type": "code",
   "execution_count": 1,
   "metadata": {
    "tags": []
   },
   "outputs": [
    {
     "ename": "FileNotFoundError",
     "evalue": "[Errno 2] No such file or directory: 'ratings-train.txt'",
     "output_type": "error",
     "traceback": [
      "\u001b[0;31m---------------------------------------------------------------------------\u001b[0m",
      "\u001b[0;31mFileNotFoundError\u001b[0m                         Traceback (most recent call last)",
      "Input \u001b[0;32mIn [1]\u001b[0m, in \u001b[0;36m<cell line: 14>\u001b[0;34m()\u001b[0m\n\u001b[1;32m      9\u001b[0m ITM \u001b[38;5;241m=\u001b[39m defaultdict(\u001b[38;5;28mdict\u001b[39m)\n\u001b[1;32m     11\u001b[0m \u001b[38;5;66;03m#ITM[m][u] stores rating score for movie m and user u\u001b[39;00m\n\u001b[1;32m     12\u001b[0m \u001b[38;5;66;03m#SIM[m1][m2] stores similarity score between movie m and m1\u001b[39;00m\n\u001b[0;32m---> 14\u001b[0m ifile \u001b[38;5;241m=\u001b[39m \u001b[38;5;28;43mopen\u001b[39;49m\u001b[43m(\u001b[49m\u001b[38;5;124;43m\"\u001b[39;49m\u001b[38;5;124;43mratings-train.txt\u001b[39;49m\u001b[38;5;124;43m\"\u001b[39;49m\u001b[43m)\u001b[49m\n\u001b[1;32m     15\u001b[0m \u001b[38;5;28;01mfor\u001b[39;00m l \u001b[38;5;129;01min\u001b[39;00m ifile:\n\u001b[1;32m     16\u001b[0m     parts \u001b[38;5;241m=\u001b[39m l\u001b[38;5;241m.\u001b[39mstrip()\u001b[38;5;241m.\u001b[39msplit(\u001b[38;5;124m\"\u001b[39m\u001b[38;5;124m,\u001b[39m\u001b[38;5;124m\"\u001b[39m)\n",
      "\u001b[0;31mFileNotFoundError\u001b[0m: [Errno 2] No such file or directory: 'ratings-train.txt'"
     ]
    }
   ],
   "source": [
    "from collections import defaultdict\n",
    "from scipy.stats import pearsonr\n",
    "import numpy as np\n",
    "import math\n",
    "\n",
    "#STORE SIMILARITIES IN A DICTIONARY SIM (THIS IS LIKE A SPARSE-MATRIX WHERE WE ONLY STORE NON-ZERO VALUES)\n",
    "SIM = defaultdict(dict)\n",
    "#STORE RATINGS in ITM\n",
    "ITM = defaultdict(dict)\n",
    "\n",
    "#ITM[m][u] stores rating score for movie m and user u\n",
    "#SIM[m1][m2] stores similarity score between movie m and m1\n",
    "\n",
    "ifile = open(\"ratings-train.txt\")\n",
    "for l in ifile:\n",
    "    parts = l.strip().split(\",\")\n",
    "    ITM[int(parts[0])][int(parts[1])] = float(parts[2])\n",
    "ifile.close()\n",
    "\n",
    "for m in ITM.keys():\n",
    "    for m1 in ITM.keys():\n",
    "        if m==m1:\n",
    "            continue\n",
    "        #COMPUTE SIMILARITY BETWEEN m and m1 and store this value in SIM[m][m1]\n",
    "\n",
    "ifile = open(\"ratings-test.txt\")\n",
    "for l in ifile:\n",
    "    parts = l.strip().split(\",\")\n",
    "    movie = parts[0]\n",
    "    user = parts[1]\n",
    "    truerating = float(parts[2])\n",
    "    #FIND K NEIGHBORS for movie from the weights stored in SIM\n",
    "    #PREDICT the rating by user using the user's ratings for the K neighbors\n",
    "#Compute the Mean-Squared Error between the true and predicted ratings\n",
    "ifile.close()"
   ]
  },
  {
   "cell_type": "code",
   "execution_count": null,
   "metadata": {},
   "outputs": [
    {
     "ename": "SyntaxError",
     "evalue": "invalid syntax (3766437604.py, line 1)",
     "output_type": "error",
     "traceback": [
      "\u001b[0;36m  Input \u001b[0;32mIn [2]\u001b[0;36m\u001b[0m\n\u001b[0;31m    echo \"# CollaborativeFiltering\" >> README.md\u001b[0m\n\u001b[0m         ^\u001b[0m\n\u001b[0;31mSyntaxError\u001b[0m\u001b[0;31m:\u001b[0m invalid syntax\n"
     ]
    }
   ],
   "source": []
  }
 ],
 "metadata": {
  "anaconda-cloud": {},
  "kernelspec": {
   "display_name": "Python 3 (ipykernel)",
   "language": "python",
   "name": "python3"
  },
  "language_info": {
   "codemirror_mode": {
    "name": "ipython",
    "version": 3
   },
   "file_extension": ".py",
   "mimetype": "text/x-python",
   "name": "python",
   "nbconvert_exporter": "python",
   "pygments_lexer": "ipython3",
   "version": "3.9.12"
  }
 },
 "nbformat": 4,
 "nbformat_minor": 4
}
