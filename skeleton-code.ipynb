{
 "cells": [
  {
   "cell_type": "markdown",
   "metadata": {
    "tags": []
   },
   "source": [
    "# Collaborative Filtering Project\n",
    "## Intro to Machine Learning\n",
    "### Thomas Cazort\n",
    "---"
   ]
  },
  {
   "cell_type": "markdown",
   "metadata": {},
   "source": [
    "### Setup:"
   ]
  },
  {
   "cell_type": "code",
   "execution_count": 10,
   "metadata": {},
   "outputs": [],
   "source": [
    "from collections import defaultdict\n",
    "from scipy.stats import pearsonr\n",
    "import numpy as np\n",
    "import math"
   ]
  },
  {
   "cell_type": "markdown",
   "metadata": {},
   "source": [
    "Store similarities in dictionary SIM (This is like a sparse-matrix where we only store non-zero values)\n",
    "\n",
    "Store ratings in ITM:"
   ]
  },
  {
   "cell_type": "code",
   "execution_count": 11,
   "metadata": {},
   "outputs": [],
   "source": [
    "SIM = defaultdict(dict)\n",
    "ITM = defaultdict(dict)"
   ]
  },
  {
   "cell_type": "markdown",
   "metadata": {},
   "source": [
    "ITM[*m*][*u*] stores rating score for movie *m* and user *u*\n",
    "\n",
    "SIM[*m1*][*m2*] stores similarity score between movie *m* and *m1*"
   ]
  },
  {
   "cell_type": "code",
   "execution_count": 12,
   "metadata": {},
   "outputs": [],
   "source": [
    "ifile = open(\"netflix-small/ratings-train.txt\")\n",
    "for l in ifile:\n",
    "    parts = l.strip().split(\",\")\n",
    "    ITM[int(parts[0])][int(parts[1])] = float(parts[2])\n",
    "ifile.close()"
   ]
  },
  {
   "cell_type": "markdown",
   "metadata": {},
   "source": [
    "### Similarity Computation:\n",
    "\n",
    "Compute similarity between *m* and *m1* and store this value in SIM[*m*][*m1*]"
   ]
  },
  {
   "cell_type": "code",
   "execution_count": 13,
   "metadata": {},
   "outputs": [],
   "source": [
    "for m in ITM.keys():\n",
    "    for m1 in ITM.keys():\n",
    "        if m==m1:\n",
    "            continue"
   ]
  },
  {
   "cell_type": "code",
   "execution_count": 14,
   "metadata": {
    "tags": []
   },
   "outputs": [],
   "source": [
    "ifile = open(\"netflix-small/ratings-test.txt\")\n",
    "for l in ifile:\n",
    "    parts = l.strip().split(\",\")\n",
    "    movie = parts[0]\n",
    "    user = parts[1]\n",
    "    truerating = float(parts[2])\n",
    "    #FIND K NEIGHBORS for movie from the weights stored in SIM\n",
    "    #PREDICT the rating by user using the user's ratings for the K neighbors\n",
    "#Compute the Mean-Squared Error between the true and predicted ratings\n",
    "ifile.close()"
   ]
  },
  {
   "cell_type": "markdown",
   "metadata": {},
   "source": [
    "### K Neighbors:\n",
    "\n",
    "Find K Neighbors for movie from the weights store in SIM:"
   ]
  },
  {
   "cell_type": "markdown",
   "metadata": {},
   "source": [
    "### Prediction:\n",
    "\n",
    "Predict the rating by user using user's ratings for the K neighbors:"
   ]
  },
  {
   "cell_type": "markdown",
   "metadata": {},
   "source": [
    "### MSE:\n",
    "\n",
    "Compute the Mean-Squared Error between the true and predicted ratings:"
   ]
  },
  {
   "cell_type": "code",
   "execution_count": null,
   "metadata": {},
   "outputs": [],
   "source": []
  }
 ],
 "metadata": {
  "anaconda-cloud": {},
  "kernelspec": {
   "display_name": "Python 3 (ipykernel)",
   "language": "python",
   "name": "python3"
  },
  "language_info": {
   "codemirror_mode": {
    "name": "ipython",
    "version": 3
   },
   "file_extension": ".py",
   "mimetype": "text/x-python",
   "name": "python",
   "nbconvert_exporter": "python",
   "pygments_lexer": "ipython3",
   "version": "3.9.12"
  }
 },
 "nbformat": 4,
 "nbformat_minor": 4
}
